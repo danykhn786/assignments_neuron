{
 "cells": [
  {
   "cell_type": "markdown",
   "id": "e5618c73",
   "metadata": {},
   "source": [
    "**1. What are escape characters, and how do you use them?**<br>\n",
    "**Answer:** Escape characters are special characters that are used to represent certain sequences of characters. In Python, escape characters are represented by a backslash ('\\') followed by another character. Some examples of escape characters are <br>'\\n': Newline character\n",
    "<br>'\\t': Tab Character\n",
    "<br>For example:"
   ]
  },
  {
   "cell_type": "code",
   "execution_count": 5,
   "id": "7a0e25d4",
   "metadata": {},
   "outputs": [
    {
     "ename": "SyntaxError",
     "evalue": "invalid syntax (7934146.py, line 1)",
     "output_type": "error",
     "traceback": [
      "\u001b[1;36m  File \u001b[1;32m\"C:\\Users\\danyk\\AppData\\Local\\Temp\\ipykernel_20904\\7934146.py\"\u001b[1;36m, line \u001b[1;32m1\u001b[0m\n\u001b[1;33m    txt = \"We are the so-called \"Vikings\" from the north.\"\u001b[0m\n\u001b[1;37m                                 ^\u001b[0m\n\u001b[1;31mSyntaxError\u001b[0m\u001b[1;31m:\u001b[0m invalid syntax\n"
     ]
    }
   ],
   "source": [
    "txt = \"We are the so-called \"Vikings\" from the north.\""
   ]
  },
  {
   "cell_type": "code",
   "execution_count": 6,
   "id": "4deb8f69",
   "metadata": {},
   "outputs": [
    {
     "name": "stdout",
     "output_type": "stream",
     "text": [
      "We are the so-called \"Vikings\" from the north.\n"
     ]
    }
   ],
   "source": [
    "txt = \"We are the so-called \\\"Vikings\\\" from the north.\"\n",
    "print(txt)"
   ]
  },
  {
   "cell_type": "markdown",
   "id": "50d16df0",
   "metadata": {},
   "source": [
    "**2. What do the escape characters n and t stand for?**<br>\n",
    "**Answer:** The escape character 'n' represents a new line character which is used to seperate lines of text. When a string containing a '\\n' escape character is printed, the text after the escape character will be displayed on a new line. <br>\n",
    "\n",
    "Whereas, the escape character 't' represents a tab character which is used to seperate columns of text. When a string containing a '\\t' escape character is printed, the text after the escape character will be intended one tab stop to the right. \n",
    "For Example:"
   ]
  },
  {
   "cell_type": "code",
   "execution_count": 7,
   "id": "e05b7a63",
   "metadata": {},
   "outputs": [
    {
     "name": "stdout",
     "output_type": "stream",
     "text": [
      "Hello\n",
      "World\n",
      "Column 1\tColumn 2\tColumn 3\n"
     ]
    }
   ],
   "source": [
    "print(\"Hello\\nWorld\")\n",
    "                   \n",
    "print(\"Column 1\\tColumn 2\\tColumn 3\")"
   ]
  },
  {
   "cell_type": "markdown",
   "id": "8b0ca81e",
   "metadata": {},
   "source": [
    "**3. What is the way to include backslash characters in a string?**<br>\n",
    "**Answer:** To include a backslash character in a string, you need to escape it with another backslash character.\n",
    "For Example:"
   ]
  },
  {
   "cell_type": "code",
   "execution_count": 9,
   "id": "0f983c73",
   "metadata": {},
   "outputs": [
    {
     "name": "stdout",
     "output_type": "stream",
     "text": [
      "This is a single backslash: \\\n"
     ]
    }
   ],
   "source": [
    "print(\"This is a single backslash: \\\\\")"
   ]
  },
  {
   "cell_type": "markdown",
   "id": "8067dd2c",
   "metadata": {},
   "source": [
    "You can also use raw strings to include backslashes in a string without escaping them. Raw strings are specified by prefixing the string with r. In a raw string, backslashes are treated as literal characters, so you don't need to escape them. For Example"
   ]
  },
  {
   "cell_type": "code",
   "execution_count": 10,
   "id": "ec42af61",
   "metadata": {},
   "outputs": [
    {
     "name": "stdout",
     "output_type": "stream",
     "text": [
      "C:\\Windows\\System32\n"
     ]
    }
   ],
   "source": [
    "print(r\"C:\\Windows\\System32\")"
   ]
  },
  {
   "cell_type": "markdown",
   "id": "c8bebceb",
   "metadata": {},
   "source": [
    "**4. The string \"Howl's Moving Castle\" is a correct value. Why isn't the single quote character in the word Howl's not escaped a problem?**<br>\n",
    "**Answer:** The string \"Howl's Moving Castle\" is a correct value in Python because it uses double quotes to delimit the string, which allows you to include single quotes within the string without them being intepreted as string delimeters.\n",
    "\n",
    "If we used single quotes to delimit the string, we would need to escape the single quotes within the string with a backslash to indicate that they are a part of the string. For Example"
   ]
  },
  {
   "cell_type": "code",
   "execution_count": 12,
   "id": "ad175aeb",
   "metadata": {},
   "outputs": [
    {
     "name": "stdout",
     "output_type": "stream",
     "text": [
      "How's Moving Castle\n"
     ]
    }
   ],
   "source": [
    "print('How\\'s Moving Castle')"
   ]
  },
  {
   "cell_type": "markdown",
   "id": "bef8f14b",
   "metadata": {},
   "source": [
    "**5. How do you write a string of newlines if you don't want to use the n character?**<br>\n",
    "**Answer:** If you do not want to use the '\\n' escape character to represent a new line in a string, you can use triple quotes (either single quotes or double) to delimit the string. For Example"
   ]
  },
  {
   "cell_type": "code",
   "execution_count": 13,
   "id": "ee6a433b",
   "metadata": {},
   "outputs": [
    {
     "name": "stdout",
     "output_type": "stream",
     "text": [
      "\n",
      "line 1 \n",
      "line 2 \n",
      "line 3\n",
      "\n"
     ]
    }
   ],
   "source": [
    "print(\"\"\"\n",
    "line 1 \n",
    "line 2 \n",
    "line 3\n",
    "\"\"\")"
   ]
  },
  {
   "cell_type": "code",
   "execution_count": 14,
   "id": "d897dca2",
   "metadata": {},
   "outputs": [
    {
     "name": "stdout",
     "output_type": "stream",
     "text": [
      "\n",
      "line 1 \n",
      "line 2 \n",
      "line 3 \n",
      "\n"
     ]
    }
   ],
   "source": [
    "print('''\n",
    "line 1 \n",
    "line 2 \n",
    "line 3 \n",
    "''')"
   ]
  },
  {
   "cell_type": "markdown",
   "id": "a3579707",
   "metadata": {},
   "source": [
    "**6. What are the values of the given expressions?\n",
    "'Hello, world!'[1]\n",
    "'Hello, world!'[0:5]\n",
    "'Hello, world!'[:5]\n",
    "'Hello, world!'[3:]\n",
    "**<br>\n",
    "**Answer:** The different values provided by the expressions are as follows:"
   ]
  },
  {
   "cell_type": "code",
   "execution_count": 15,
   "id": "556310cf",
   "metadata": {},
   "outputs": [
    {
     "data": {
      "text/plain": [
       "'e'"
      ]
     },
     "execution_count": 15,
     "metadata": {},
     "output_type": "execute_result"
    }
   ],
   "source": [
    "'Hello, world!'[1] #The following expression returns element from the first index of the string "
   ]
  },
  {
   "cell_type": "code",
   "execution_count": 20,
   "id": "e7c9d683",
   "metadata": {},
   "outputs": [
    {
     "data": {
      "text/plain": [
       "'Hello'"
      ]
     },
     "execution_count": 20,
     "metadata": {},
     "output_type": "execute_result"
    }
   ],
   "source": [
    "'Hello, world!'[0:5] #The following expression returns element ranging from 0th index to 4th index "
   ]
  },
  {
   "cell_type": "code",
   "execution_count": 18,
   "id": "1be83c37",
   "metadata": {},
   "outputs": [
    {
     "data": {
      "text/plain": [
       "'Hello'"
      ]
     },
     "execution_count": 18,
     "metadata": {},
     "output_type": "execute_result"
    }
   ],
   "source": [
    "'Hello, world!'[:5] #The following expression returns element ranging from start i.e. 0th index to 4th index"
   ]
  },
  {
   "cell_type": "code",
   "execution_count": 21,
   "id": "560b373c",
   "metadata": {},
   "outputs": [
    {
     "data": {
      "text/plain": [
       "'lo, world!'"
      ]
     },
     "execution_count": 21,
     "metadata": {},
     "output_type": "execute_result"
    }
   ],
   "source": [
    "'Hello, world!'[3:] #The following expression returns element ranging from 3rd index to last index"
   ]
  },
  {
   "cell_type": "markdown",
   "id": "ac54a417",
   "metadata": {},
   "source": [
    "**7. What are the values of the following expressions?<br>\n",
    "'Hello'.upper()<br>\n",
    "'Hello'.upper().isupper()<br>\n",
    "'Hello'.upper().lower()**<br>\n",
    "**Answer:** The above expressions return the following values:"
   ]
  },
  {
   "cell_type": "code",
   "execution_count": 24,
   "id": "e980526a",
   "metadata": {},
   "outputs": [
    {
     "data": {
      "text/plain": [
       "'HELLO'"
      ]
     },
     "execution_count": 24,
     "metadata": {},
     "output_type": "execute_result"
    }
   ],
   "source": [
    "'Hello'.upper() #The following function returns all the values in the string in uppercase"
   ]
  },
  {
   "cell_type": "code",
   "execution_count": 26,
   "id": "740befad",
   "metadata": {},
   "outputs": [
    {
     "data": {
      "text/plain": [
       "True"
      ]
     },
     "execution_count": 26,
     "metadata": {},
     "output_type": "execute_result"
    }
   ],
   "source": [
    "'Hello'.upper().isupper() #The following expression converts the string into uppercase and then checks if string is uppercase or not "
   ]
  },
  {
   "cell_type": "code",
   "execution_count": 27,
   "id": "a4eb5e3a",
   "metadata": {},
   "outputs": [
    {
     "data": {
      "text/plain": [
       "'hello'"
      ]
     },
     "execution_count": 27,
     "metadata": {},
     "output_type": "execute_result"
    }
   ],
   "source": [
    "'Hello'.upper().lower()  #The following expression converts the string into uppercase and then converts the string in lowercase. "
   ]
  },
  {
   "cell_type": "markdown",
   "id": "a2371d98",
   "metadata": {},
   "source": [
    "**8. What are the values of the following expressions?\n",
    "'Remember, remember, the fifth of July.'.split()\n",
    "'-'.join('There can only one.'.split())**<br>\n",
    "**Answer:** The value of the above expression is as follows: "
   ]
  },
  {
   "cell_type": "code",
   "execution_count": 30,
   "id": "6cb36102",
   "metadata": {},
   "outputs": [
    {
     "data": {
      "text/plain": [
       "['Remember,', 'remember,', 'the', 'fifth', 'of', 'July.']"
      ]
     },
     "execution_count": 30,
     "metadata": {},
     "output_type": "execute_result"
    }
   ],
   "source": [
    "'Remember, remember, the fifth of July.'.split() #The following expression splits the string into different words using whitespace as a delimit"
   ]
  },
  {
   "cell_type": "code",
   "execution_count": 31,
   "id": "6713a94d",
   "metadata": {},
   "outputs": [
    {
     "data": {
      "text/plain": [
       "'There-can-only-one.'"
      ]
     },
     "execution_count": 31,
     "metadata": {},
     "output_type": "execute_result"
    }
   ],
   "source": [
    "'-'.join('There can only one.'.split()) #The following expression splits the string using whitespace as delimiter and then joins the string using the hyphen"
   ]
  },
  {
   "cell_type": "markdown",
   "id": "5d334b49",
   "metadata": {},
   "source": [
    "**9. What are the methods for right-justifying, left-justifying, and centering a string?**<br>\n",
    "**Answer:** In Python, We can right-justify, left-justify and center a string using the 'str.ljust()','str.rjust()' and 'str.center()' methods respectively. These methods allow you to specify the width of the resulting string and fill any remaining space with a specified character (default is whitespace). For Example"
   ]
  },
  {
   "cell_type": "code",
   "execution_count": 32,
   "id": "6e6b6801",
   "metadata": {},
   "outputs": [
    {
     "name": "stdout",
     "output_type": "stream",
     "text": [
      "---------Hello World\n",
      "Hello World         \n",
      "****Hello World*****\n"
     ]
    }
   ],
   "source": [
    "text = \"Hello World\"\n",
    "\n",
    "print(text.rjust(20,\"-\"))\n",
    "\n",
    "print(text.ljust(20))\n",
    "\n",
    "print(text.center(20,\"*\"))"
   ]
  },
  {
   "cell_type": "markdown",
   "id": "7ace8d40",
   "metadata": {},
   "source": [
    "**10. What is the best way to remove whitespace characters from the start or end?**<br>\n",
    "**Answer:** The best way to remove whitespace characters from the start or end is using the 'str.strip' method. This method removes any leading or trailing whitespace characters from the string. For Example: "
   ]
  },
  {
   "cell_type": "code",
   "execution_count": 35,
   "id": "ab6eb38b",
   "metadata": {},
   "outputs": [
    {
     "name": "stdout",
     "output_type": "stream",
     "text": [
      "Hello World\n"
     ]
    }
   ],
   "source": [
    "text = \"     Hello World    \"\n",
    "\n",
    "print(text.strip())"
   ]
  }
 ],
 "metadata": {
  "kernelspec": {
   "display_name": "Python 3 (ipykernel)",
   "language": "python",
   "name": "python3"
  },
  "language_info": {
   "codemirror_mode": {
    "name": "ipython",
    "version": 3
   },
   "file_extension": ".py",
   "mimetype": "text/x-python",
   "name": "python",
   "nbconvert_exporter": "python",
   "pygments_lexer": "ipython3",
   "version": "3.9.13"
  }
 },
 "nbformat": 4,
 "nbformat_minor": 5
}
