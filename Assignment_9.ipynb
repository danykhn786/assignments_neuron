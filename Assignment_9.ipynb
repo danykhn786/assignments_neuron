{
 "cells": [
  {
   "cell_type": "markdown",
   "id": "10cda849",
   "metadata": {},
   "source": [
    "**1. To what does a relative path refer?**<br> \n",
    "**Answer:** A relative path refers to a file or directory location relative to the current working directory. A relative path is speicified without a leading forward slash '/' or a drive letter e.g. C: and its location is determined based on the current working directory. Relative paths are used in many contexts, such as specifying file locations in a program, linking to resource in a web pagem or navigating the file system in a terminal or command prompt. They are often preferred over absolute paths because they are portable and can be used in different environments without modification."
   ]
  },
  {
   "cell_type": "markdown",
   "id": "61679faa",
   "metadata": {},
   "source": [
    "**2. What does an absolute path start with your operating system?**<br>\n",
    "**Answer:** An absolute path refers to a file or directory location that is specified with a complete and unique path, starting from the root if the file system. The speicific format of an absolute path depends on the operating system:<br>\n",
    "- On unix-based systems an absolute path starts with a forward slash ('/') and specifies a complete path from the root of the file system. For Eg. '/home/user/'.\n",
    "- On Windows, an absolute path starts with a drive letter (e.g. C:) and specifies complete path from the root of the specified drive. For Eg. 'C:\\Users\\user\\Desktop'<br>\n",
    "\n",
    "The absolute path for my operating system starts with a **drive letter** since, I am a windows user."
   ]
  },
  {
   "cell_type": "markdown",
   "id": "162dd31e",
   "metadata": {},
   "source": [
    "**3. What do the functions os.getcwd() and os.chdir() do?**<br>\n",
    "**Answer:** The 'os.getcwd()'and 'os.getcwd()' are functions within the OS module available in Python. The 'os.getcwd()' is a function which prints the current working directory of the Python process as a string.Wheras, the 'os.chdir()' function changes the current working directory of the specified directory. This function takes a string argument that represents the path of the new working directory.\n"
   ]
  },
  {
   "cell_type": "markdown",
   "id": "c2b2f0bb",
   "metadata": {},
   "source": [
    "**4. What are the . and .. folders?**<br>\n",
    "**Answer:** '.' and '..' are special directories in a file system that are used to refer to the current directory and the parent directory respectively.\n",
    "\n",
    "- '.' a single dot refers to the current directory. For Example if current working directory is '/home/user/documents' and relative path is './images' it refers to the directory '/home/user/documents/images'\n",
    "- '..' two dots refers to the parent directory. For example, if the current working directory is /home/user/documents/images, a relative path of ../ refers to the directory /home/user/documents."
   ]
  },
  {
   "cell_type": "markdown",
   "id": "b145fd07",
   "metadata": {},
   "source": [
    "**5. In C:\\bacon\\eggs\\spam.txt, which part is the dir name, and which part is the base name?**<br>\n",
    "**Answer:** In the above example, 'C:\\bacon\\eggs' is the directory name, whereas 'spam.txt' is the base name. "
   ]
  },
  {
   "cell_type": "markdown",
   "id": "6c3d0c1c",
   "metadata": {},
   "source": [
    "**6. What are the three “mode” arguments that can be passed to the open() function?**<br>\n",
    "**Answer:** The 'open()' funtion is used to open a file in Python program and it returns a file object. It takes arguments for different modes present in it. The three mode arguments that can be passed to the open() function are as follows:<br>\n",
    "1. 'r': In this mode, the file is accessed in read-only mode.\n",
    "2. 'w': In this mode, the file is accessed in write mode.\n",
    "3. 'a': In this mode, the file is accessed in append mode."
   ]
  },
  {
   "cell_type": "markdown",
   "id": "00e1e425",
   "metadata": {},
   "source": [
    "**7. What happens if an existing file is opened in write mode?**<br>\n",
    "**Answer:** If an existing file is opened in write mode, then the existing file is erased and completely overwritten."
   ]
  },
  {
   "cell_type": "markdown",
   "id": "d657e76a",
   "metadata": {},
   "source": [
    "**8. How do you tell the difference between read() and readlines()?**<br>\n",
    "**Answer:** The 'read()' and 'readline()' methods are used to read data from a file in Python. The main difference between them is how they return the contents of the file:\n",
    "1. <u>read()</u>: returns the entire content of a file as a single string. This method is useful when we want to read the entire contents of a file into memory.\n",
    "2. <u>readline()</u>: returns the contents of a file a list of strings, where each string represents a line in the file. This method is useful when we want to process the contents of a file line by line."
   ]
  },
  {
   "cell_type": "markdown",
   "id": "6de082db",
   "metadata": {},
   "source": [
    "**9. What data structure does a shelf value resemble?**<br>\n",
    "**Answer:** A shelf value in Python resembles a dictionary. A shelf is a persistent, dictionary-like object that allows us to store and retrieve values using keys. The difference between dictionary and shelf is that contents of a shelf are stored on disk and persist between Python sessions, so we can access the same data in multiple sessions. Shelf values are implemented using the 'shelve' module which allows us to create a shelf file which is a binary file which can store value."
   ]
  }
 ],
 "metadata": {
  "kernelspec": {
   "display_name": "Python 3 (ipykernel)",
   "language": "python",
   "name": "python3"
  },
  "language_info": {
   "codemirror_mode": {
    "name": "ipython",
    "version": 3
   },
   "file_extension": ".py",
   "mimetype": "text/x-python",
   "name": "python",
   "nbconvert_exporter": "python",
   "pygments_lexer": "ipython3",
   "version": "3.9.13"
  }
 },
 "nbformat": 4,
 "nbformat_minor": 5
}
