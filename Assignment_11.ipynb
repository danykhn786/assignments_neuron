{
 "cells": [
  {
   "cell_type": "markdown",
   "id": "f55ec508",
   "metadata": {},
   "source": [
    "**1. Create an assert statement that throws an AssertionError if the variable spam is a negative integer.**<br>\n",
    "**Answer:** The following code would throw an AssertionError if the variable spma is a negative integer."
   ]
  },
  {
   "cell_type": "code",
   "execution_count": 2,
   "id": "e5d16e0c",
   "metadata": {},
   "outputs": [
    {
     "ename": "AssertionError",
     "evalue": "spam cannot be negative",
     "output_type": "error",
     "traceback": [
      "\u001b[1;31m---------------------------------------------------------------------------\u001b[0m",
      "\u001b[1;31mAssertionError\u001b[0m                            Traceback (most recent call last)",
      "\u001b[1;32m~\\AppData\\Local\\Temp\\ipykernel_10472\\771809929.py\u001b[0m in \u001b[0;36m<module>\u001b[1;34m\u001b[0m\n\u001b[0;32m      1\u001b[0m \u001b[0mspam\u001b[0m \u001b[1;33m=\u001b[0m \u001b[1;33m-\u001b[0m\u001b[1;36m1\u001b[0m\u001b[1;33m\u001b[0m\u001b[1;33m\u001b[0m\u001b[0m\n\u001b[1;32m----> 2\u001b[1;33m \u001b[1;32massert\u001b[0m \u001b[0mspam\u001b[0m\u001b[1;33m>=\u001b[0m\u001b[1;36m0\u001b[0m\u001b[1;33m,\u001b[0m\u001b[1;34m\"spam cannot be negative\"\u001b[0m\u001b[1;33m\u001b[0m\u001b[1;33m\u001b[0m\u001b[0m\n\u001b[0m",
      "\u001b[1;31mAssertionError\u001b[0m: spam cannot be negative"
     ]
    }
   ],
   "source": [
    "spam = -1\n",
    "assert spam>=0,\"spam cannot be negative\""
   ]
  },
  {
   "cell_type": "markdown",
   "id": "08ea4b15",
   "metadata": {},
   "source": [
    "**2. Write an assert statement that triggers an AssertionError if the variables eggs and bacon contain strings that are the same as each other, even if their cases are different (that is, 'hello' and 'hello' are considered the same, and 'goodbye' and 'GOODbye' are also considered the same).**<br>\n",
    "**Answer:** The following code snippet would throw an AssertionError if the variable strings are the same as each other, irrespective of the case:"
   ]
  },
  {
   "cell_type": "code",
   "execution_count": 3,
   "id": "62497f68",
   "metadata": {},
   "outputs": [
    {
     "ename": "AssertionError",
     "evalue": "Error:Variables Contain the same string",
     "output_type": "error",
     "traceback": [
      "\u001b[1;31m---------------------------------------------------------------------------\u001b[0m",
      "\u001b[1;31mAssertionError\u001b[0m                            Traceback (most recent call last)",
      "\u001b[1;32m~\\AppData\\Local\\Temp\\ipykernel_10488\\4092976133.py\u001b[0m in \u001b[0;36m<module>\u001b[1;34m\u001b[0m\n\u001b[0;32m      1\u001b[0m \u001b[0meggs\u001b[0m \u001b[1;33m=\u001b[0m \u001b[1;34m'hello'\u001b[0m\u001b[1;33m\u001b[0m\u001b[1;33m\u001b[0m\u001b[0m\n\u001b[0;32m      2\u001b[0m \u001b[0mbacon\u001b[0m \u001b[1;33m=\u001b[0m \u001b[1;34m'hello'\u001b[0m\u001b[1;33m\u001b[0m\u001b[1;33m\u001b[0m\u001b[0m\n\u001b[1;32m----> 3\u001b[1;33m \u001b[1;32massert\u001b[0m \u001b[0meggs\u001b[0m\u001b[1;33m.\u001b[0m\u001b[0mlower\u001b[0m\u001b[1;33m(\u001b[0m\u001b[1;33m)\u001b[0m \u001b[1;33m!=\u001b[0m \u001b[0mbacon\u001b[0m\u001b[1;33m.\u001b[0m\u001b[0mlower\u001b[0m\u001b[1;33m(\u001b[0m\u001b[1;33m)\u001b[0m\u001b[1;33m,\u001b[0m\u001b[1;34m\"Error:Variables Contain the same string\"\u001b[0m\u001b[1;33m\u001b[0m\u001b[1;33m\u001b[0m\u001b[0m\n\u001b[0m",
      "\u001b[1;31mAssertionError\u001b[0m: Error:Variables Contain the same string"
     ]
    }
   ],
   "source": [
    "eggs = 'hello'\n",
    "bacon = 'hello'\n",
    "assert eggs.lower() != bacon.lower(),\"Error:Variables Contain the same string\""
   ]
  },
  {
   "cell_type": "markdown",
   "id": "c63fbc25",
   "metadata": {},
   "source": [
    "**3. Create an assert statement that throws an AssertionError every time.**<br>\n",
    "**Answer:** The following code will throw an AssertionError every time:"
   ]
  },
  {
   "cell_type": "code",
   "execution_count": 5,
   "id": "7136c47d",
   "metadata": {},
   "outputs": [
    {
     "ename": "AssertionError",
     "evalue": "Error: Throws AssertionError everytime",
     "output_type": "error",
     "traceback": [
      "\u001b[1;31m---------------------------------------------------------------------------\u001b[0m",
      "\u001b[1;31mAssertionError\u001b[0m                            Traceback (most recent call last)",
      "\u001b[1;32m~\\AppData\\Local\\Temp\\ipykernel_10488\\348902949.py\u001b[0m in \u001b[0;36m<module>\u001b[1;34m\u001b[0m\n\u001b[1;32m----> 1\u001b[1;33m \u001b[1;32massert\u001b[0m \u001b[1;32mFalse\u001b[0m\u001b[1;33m,\u001b[0m\u001b[1;34m\"Error: Throws AssertionError everytime\"\u001b[0m\u001b[1;33m\u001b[0m\u001b[1;33m\u001b[0m\u001b[0m\n\u001b[0m",
      "\u001b[1;31mAssertionError\u001b[0m: Error: Throws AssertionError everytime"
     ]
    }
   ],
   "source": [
    "assert False,\"Error: Throws AssertionError everytime\""
   ]
  },
  {
   "cell_type": "markdown",
   "id": "404384a8",
   "metadata": {},
   "source": [
    "**4. What are the two lines that must be present in your software in order to call logging.debug()?**<br>\n",
    "**Answer:** In order to use the 'logging.debug()' method, you need to have the following two lines of code:<br>\n",
    "1. <u>**Import the logging module**</u>: This would import the logging package into the code.<br> Syntax: *import logging*\n",
    "\n",
    "\n",
    "2. <u>**Configure the logging module**</u>: The is used to configure the logging package.<br> Syntax: *logging.basicConfig(level=logging.DEBUG)*\n",
    "<br>The basicConfig method is used to configure the logging and the level parameter is set to logging.DEBUG in order to specify that you want to log messages at the DEBUG level.\n",
    "With these two lines in place, you can now use the logging.debug() method in your code to log debug messages. For example:"
   ]
  },
  {
   "cell_type": "markdown",
   "id": "f6f74a1a",
   "metadata": {},
   "source": [
    "**5. What are the two lines that your program must have in order to have logging.debug() send a logging message to a file named programLog.txt?**<br>\n",
    "**Answer:** In order to send a logging message to a file named 'programLog.txt' the following lines of code must be present in the program:<br>\n",
    "\n",
    "1. <u>**Import the logging module**</u>: This would import the logging package into the code.<br> Syntax: *import logging*\n",
    "\n",
    "2. <u>**Configuring the logging module with file**</u>: This would configure the logging package to write a file in the said file location/file. <br> Syntax: logging.basicConfig(filename ='programLog.txt',level = logging.DEBUG,format = '%(asctime)s - %(levelname)s - %(message)s')\n"
   ]
  },
  {
   "cell_type": "markdown",
   "id": "b63b7e44",
   "metadata": {},
   "source": [
    "**6. What are the five levels of logging?**<br>\n",
    "**Answer:** The file levels of logging are,in increasing order of severity: \n",
    "1. DEBUG: Detailed information, typically of interest only when diagnosing a problem.<br>\n",
    "\n",
    "2. Info: Confirmation that things are working as expected.<br>\n",
    "\n",
    "3. Warning: An indication that something unexpected happened or indicative of some problem in near future.<br>\n",
    "\n",
    "4. Error: Due to a more serious problem, the software has not been able to perform some function.<br>\n",
    "\n",
    "5. Critical: A very serious error, indicating that the program itself maybe unable to continue running.\n",
    "\n",
    "Each logging level includes all the messages from below it."
   ]
  },
  {
   "cell_type": "markdown",
   "id": "3943fc8a",
   "metadata": {},
   "source": [
    "**7. What line of code would you add to your software to disable all logging messages?**<br>\n",
    "**Answer:** To disable all logging messages in software we can use the following code: <br>\n",
    "**logging.disable(logging.CRITICAL)**\n",
    "\n",
    "This sets the logging threshold to CRITICAL, so only messages with level CRITICAL or higher will be emitted. All other messages will be suppressed.\n"
   ]
  },
  {
   "cell_type": "markdown",
   "id": "c2cfa55f",
   "metadata": {},
   "source": [
    "**8.Why is using logging messages better than using print() to display the same message?**<br>\n",
    "**Answer:** Using logging messages is generally considered better than using print() statements for several reasons:\n",
    "\n",
    "<u>**Separation of Concerns**</u>: Logging messages are designed to provide information about the state of the application and the actions it is performing, while print() statements are primarily used for debugging purposes. By using logging, you can separate the debug information from the actual output of your application, making it easier to read and understand.\n",
    "\n",
    "<u>**Flexibility**</u>: Logging messages have different levels, such as INFO, WARNING, ERROR, etc. These levels allow you to categorize the messages and control the amount of information being displayed. With print(), you would need to manually add or remove statements to control the output, which can be time-consuming and error-prone.\n",
    "\n",
    "<u>**Persistence**</u>: Logging messages can be written to a file, which can be useful for later analysis and troubleshooting. This can be particularly important for applications that run in the background or for extended periods of time, as you can examine the logs to see what happened at a later point. print() statements, on the other hand, are displayed on the screen and lost once the program terminates.\n",
    "\n",
    "<u>**Standardization**</u>: Logging messages follow a well-established convention, making it easier to understand the output and to share information with others. This is particularly important in a team setting, where developers may need to quickly understand the state of the application without having to read through the entire code.\n",
    "\n",
    "Overall, while print() statements can be useful for simple debugging purposes, logging provides a more flexible, persistent, and standardized way of communicating information about an application.\n"
   ]
  },
  {
   "cell_type": "markdown",
   "id": "3566bed8",
   "metadata": {},
   "source": [
    "**9. What are the differences between the Step Over, Step In, and Step Out buttons in the debugger?**<br>\n",
    "**Answer:** The differences between the Step Over, Step In and Step Out button in the debugger is as follows: <br>\n",
    "\n",
    "The 'Step In' button would move the debugger into a function call. \n",
    "\n",
    "The 'Step Over' button would quickly execute the function call without stepping into it.\n",
    "\n",
    "The 'Step Out' button will quickly execute the rest of the code until it steps out of teh function it currently is in."
   ]
  },
  {
   "cell_type": "markdown",
   "id": "94428b5d",
   "metadata": {},
   "source": [
    "**10.After you click Continue, when will the debugger stop ?**<br>\n",
    "**Answer:** After we click continue button in the debugger would stop when it has reached the end of the program or a line with a breakpoint."
   ]
  },
  {
   "cell_type": "markdown",
   "id": "fbd0edf5",
   "metadata": {},
   "source": [
    "**11. What is the concept of a breakpoint?**<br>\n",
    "**Answer:** The breakpoint is a setting on a line of code that causes the debugger to pause when the program execution reaches the line. By the help of this we can debug a specific part of a code."
   ]
  }
 ],
 "metadata": {
  "kernelspec": {
   "display_name": "Python 3 (ipykernel)",
   "language": "python",
   "name": "python3"
  },
  "language_info": {
   "codemirror_mode": {
    "name": "ipython",
    "version": 3
   },
   "file_extension": ".py",
   "mimetype": "text/x-python",
   "name": "python",
   "nbconvert_exporter": "python",
   "pygments_lexer": "ipython3",
   "version": "3.9.13"
  }
 },
 "nbformat": 4,
 "nbformat_minor": 5
}
