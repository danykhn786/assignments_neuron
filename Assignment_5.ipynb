{
 "cells": [
  {
   "cell_type": "markdown",
   "id": "89b8f264",
   "metadata": {},
   "source": [
    "**1. What does an empty dictionary's code look like?**<br>\n",
    "**Answer:** An empty dictionary in Python can be presented as follows:"
   ]
  },
  {
   "cell_type": "code",
   "execution_count": 1,
   "id": "a2d01826",
   "metadata": {},
   "outputs": [],
   "source": [
    "dict = {}"
   ]
  },
  {
   "cell_type": "markdown",
   "id": "e295e32f",
   "metadata": {},
   "source": [
    "**2. What is the value of a dictionary value with the key 'foo' and the value 42?**<br>\n",
    "**Answer:** The value of a dictionary with key $'foo'$ and value 42 can be represented as follows:"
   ]
  },
  {
   "cell_type": "code",
   "execution_count": 2,
   "id": "fefc5170",
   "metadata": {},
   "outputs": [
    {
     "data": {
      "text/plain": [
       "42"
      ]
     },
     "execution_count": 2,
     "metadata": {},
     "output_type": "execute_result"
    }
   ],
   "source": [
    "dict = {'foo':42}\n",
    "dict['foo']"
   ]
  },
  {
   "cell_type": "markdown",
   "id": "231f7339",
   "metadata": {},
   "source": [
    "Therefore, the value of dict['foo'] is 42."
   ]
  },
  {
   "cell_type": "markdown",
   "id": "9eb5395e",
   "metadata": {},
   "source": [
    "**3. What is the most significant distinction between a dictionary and a list?**<br>\n",
    "**Answer:** The most significant distinction between a dictionary and a list is that a dictionary is a collection of a key-value pair, whereas a list is a collection of oredered values. \n",
    "\n",
    "In a dictionary, you can access the value using their corresponding keys, while in a list you can access the values using their indices. So, in a dictionary the items are unordered and you can access them using keys, whereas in a list the items are ordered and you can access them using indices."
   ]
  },
  {
   "cell_type": "markdown",
   "id": "645dad73",
   "metadata": {},
   "source": [
    "**4. What happens if you try to access spam['foo'] if spam is {'bar': 100}?**<br>\n",
    "**Answer:** If we try to access spam['foo'] in a dictionary spam = {'bar':100}, We will get a 'KeyError' because the key 'foo' does not exist in the dictionary."
   ]
  },
  {
   "cell_type": "code",
   "execution_count": 4,
   "id": "df705c81",
   "metadata": {},
   "outputs": [
    {
     "ename": "KeyError",
     "evalue": "'foo'",
     "output_type": "error",
     "traceback": [
      "\u001b[1;31m---------------------------------------------------------------------------\u001b[0m",
      "\u001b[1;31mKeyError\u001b[0m                                  Traceback (most recent call last)",
      "\u001b[1;32m~\\AppData\\Local\\Temp\\ipykernel_21508\\4026577702.py\u001b[0m in \u001b[0;36m<module>\u001b[1;34m\u001b[0m\n\u001b[0;32m      1\u001b[0m \u001b[0mspam\u001b[0m \u001b[1;33m=\u001b[0m \u001b[1;33m{\u001b[0m\u001b[1;34m'bar'\u001b[0m\u001b[1;33m:\u001b[0m\u001b[1;36m100\u001b[0m\u001b[1;33m}\u001b[0m\u001b[1;33m\u001b[0m\u001b[1;33m\u001b[0m\u001b[0m\n\u001b[1;32m----> 2\u001b[1;33m \u001b[0mspam\u001b[0m\u001b[1;33m[\u001b[0m\u001b[1;34m'foo'\u001b[0m\u001b[1;33m]\u001b[0m\u001b[1;33m\u001b[0m\u001b[1;33m\u001b[0m\u001b[0m\n\u001b[0m",
      "\u001b[1;31mKeyError\u001b[0m: 'foo'"
     ]
    }
   ],
   "source": [
    "spam = {'bar':100}\n",
    "spam['foo']"
   ]
  },
  {
   "cell_type": "markdown",
   "id": "9fa31456",
   "metadata": {},
   "source": [
    "**5. If a dictionary is stored in spam, what is the difference between the expressions 'cat' in spam and 'cat' in spam.keys()?**<br>\n",
    "**Answer:** There is no difference, the operator in checks whether a value exists as a key in a dictionary or not. Similarly, expression 'cat' in spam.keys() checks if the value 'cat' exists as a key in a dictionary or not."
   ]
  },
  {
   "cell_type": "code",
   "execution_count": 12,
   "id": "c1531160",
   "metadata": {},
   "outputs": [
    {
     "name": "stdout",
     "output_type": "stream",
     "text": [
      " False\n",
      " False\n"
     ]
    }
   ],
   "source": [
    "spam = {'dog': 'bark', 'animal': 'cat'}\n",
    "print(\"\",'cat' in spam)\n",
    "print(\"\",'cat' in spam.keys())"
   ]
  },
  {
   "cell_type": "markdown",
   "id": "4bc9d079",
   "metadata": {},
   "source": [
    "**6. If a dictionary is stored in spam, what is the difference between the expressions 'cat' in spam and 'cat' in spam.values()?**<br>\n",
    "**Answer:** The expression cat in spam checks the value 'cat' is present as a key in the dictionary 'spam', whereas the expression cat in spam.values() would check if the value cat is present in the values of the dictionary. For example <br>\n",
    "if spam = {'dog': 'bark', 'cat': 'meow'}, then 'cat' in spam would evaluate to True, while 'cat' in spam.values() would evaluate to False.<br>\n",
    "In summary, the difference between the expressions 'cat' in spam and 'cat' in spam.values() is that the first expression checks if the value 'cat' is present in either the keys of the dictionary, while the second expression checks only if the value 'cat' is present in the values of the dictionary."
   ]
  },
  {
   "cell_type": "code",
   "execution_count": 14,
   "id": "4816f84b",
   "metadata": {},
   "outputs": [
    {
     "name": "stdout",
     "output_type": "stream",
     "text": [
      " False\n",
      " True\n"
     ]
    }
   ],
   "source": [
    "print(\"\",'cat' in spam)\n",
    "print(\"\",'cat' in spam.values())"
   ]
  },
  {
   "cell_type": "markdown",
   "id": "e457ecd2",
   "metadata": {},
   "source": [
    "**7. What is a shortcut for the following code?\n",
    "if 'color' not in spam:\n",
    "spam['color'] = 'black'**<br>\n",
    "**Answer:** A shortcut for the above mentioned code is: "
   ]
  },
  {
   "cell_type": "code",
   "execution_count": 16,
   "id": "1dacd38e",
   "metadata": {},
   "outputs": [
    {
     "data": {
      "text/plain": [
       "'black'"
      ]
     },
     "execution_count": 16,
     "metadata": {},
     "output_type": "execute_result"
    }
   ],
   "source": [
    "spam.setdefault('color','black')"
   ]
  },
  {
   "cell_type": "markdown",
   "id": "f0da0752",
   "metadata": {},
   "source": [
    "The setdefault() method takes two arguments: the key to look for, and the default value to set if the key is not found. "
   ]
  },
  {
   "cell_type": "markdown",
   "id": "e50c6179",
   "metadata": {},
   "source": [
    "**8. How do you \"pretty print\" dictionary values using which module and function?**<br>\n",
    "**Answer:** In Python, we can use the 'pprint' module and its 'pprint()' function to pretty print the values of a dictionary. For Example."
   ]
  },
  {
   "cell_type": "code",
   "execution_count": 17,
   "id": "efc494b3",
   "metadata": {},
   "outputs": [
    {
     "name": "stdout",
     "output_type": "stream",
     "text": [
      "{'cat': 'meow', 'dog': 'bark', 'fish': 'swim'}\n"
     ]
    }
   ],
   "source": [
    "from pprint import pprint\n",
    "\n",
    "spam = spam = {'dog': 'bark', 'cat': 'meow', 'fish': 'swim'}\n",
    "pprint(spam)"
   ]
  }
 ],
 "metadata": {
  "kernelspec": {
   "display_name": "Python 3 (ipykernel)",
   "language": "python",
   "name": "python3"
  },
  "language_info": {
   "codemirror_mode": {
    "name": "ipython",
    "version": 3
   },
   "file_extension": ".py",
   "mimetype": "text/x-python",
   "name": "python",
   "nbconvert_exporter": "python",
   "pygments_lexer": "ipython3",
   "version": "3.9.13"
  }
 },
 "nbformat": 4,
 "nbformat_minor": 5
}
