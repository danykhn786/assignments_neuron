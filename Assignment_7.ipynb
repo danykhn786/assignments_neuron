{
 "cells": [
  {
   "cell_type": "markdown",
   "id": "08d1898f",
   "metadata": {},
   "source": [
    "**1. What is the name of the feature responsible for generating Regex objects?**<br>\n",
    "**Answer:** The re.compile() function is responsible for generating regex objects. Basically, it is used to compile a regular expression pattern provided as a string into a regex object. For Example:"
   ]
  },
  {
   "cell_type": "code",
   "execution_count": 1,
   "id": "9ce86290",
   "metadata": {},
   "outputs": [],
   "source": [
    "import re "
   ]
  },
  {
   "cell_type": "code",
   "execution_count": 3,
   "id": "44e0a643",
   "metadata": {},
   "outputs": [
    {
     "name": "stdout",
     "output_type": "stream",
     "text": [
      "<class 're.Pattern'>\n",
      "The output for said regex is:  ['251', '761', '231', '451']\n"
     ]
    }
   ],
   "source": [
    "str1 = \"Emma's luck numbers are 251 761 231 451\"\n",
    "string_pattern = r\"\\d{3}\"\n",
    "reg = re.compile(string_pattern)\n",
    "print(type(reg))\n",
    "print(\"The output for said regex is: \",reg.findall(str1))"
   ]
  },
  {
   "cell_type": "markdown",
   "id": "bb3a0107",
   "metadata": {},
   "source": [
    "The above regex pattern is used to find out three consecutive digits"
   ]
  },
  {
   "cell_type": "markdown",
   "id": "9085b09d",
   "metadata": {},
   "source": [
    "**2. Why do raw strings often appear in Regex objects?**<br>\n",
    "**Answer:** Raw strings are used so that backslashes do not have to be escaped. Raw Strings are often used in regular expression objects to prevent escape characters from being interpreted as escape sequences by the Python interpreter. Instead, the raw string literal is passed directly to the regular expression engine, which can then use the escape characters as literal characters in pattern."
   ]
  },
  {
   "cell_type": "markdown",
   "id": "12a3c47b",
   "metadata": {},
   "source": [
    "**3. What is the return value of the search() method?**<br>\n",
    "**Answer:** The search() in Python programming language would return a 'match' object if the search returns True or else a 'none' type object if the search returns False. Therefore, the search() method returns match objects."
   ]
  },
  {
   "cell_type": "markdown",
   "id": "e9ce69ed",
   "metadata": {},
   "source": [
    "**4. From a Match item, how do you get the actual strings that match the pattern?**<br>\n",
    "**Answer:** We can use the 'group()' method of a 're.match' object to extract actual strings that match the pattern. The 'group()' method takes index as argument and returns the string that corresponds to the capturing with the given index in the pattern. IF the pattern contains multiple capturing groups, we can use the 'groups()' method to get a tuple containing all of the captured strings, in the order in which the groups appear in the pattern. For Example"
   ]
  },
  {
   "cell_type": "code",
   "execution_count": 8,
   "id": "e90b0881",
   "metadata": {},
   "outputs": [
    {
     "name": "stdout",
     "output_type": "stream",
     "text": [
      "Matched String:  2023-02-05\n",
      "Captured String (group1) 2023-02-05\n",
      "All Captured Strings:  ('2023-02-05',)\n"
     ]
    }
   ],
   "source": [
    "import re\n",
    "\n",
    "text = \"The data is 2023-02-05 and Tommorow's date is 2023-02-06\"\n",
    "pattern = r\"(\\d{4}-\\d{2}-\\d{2})\"\n",
    "\n",
    "match = re.search(pattern,text)\n",
    "\n",
    "string1 = match.group(0)\n",
    "print(\"Matched String: \",string1)\n",
    "\n",
    "string2 = match.group(1)\n",
    "print(\"Captured String (group1)\",string2)\n",
    "\n",
    "string3 = match.groups()\n",
    "print(\"All Captured Strings: \",string3)"
   ]
  },
  {
   "cell_type": "markdown",
   "id": "fd085572",
   "metadata": {},
   "source": [
    "**5. In the regex which created from the r'(\\d\\d\\d)-(\\d\\d\\d-\\d\\d\\d\\d)', what does group zero cover? Group 2? Group 1?**<br>\n",
    "**Answer:** Group 0 is the entire match. <br> \n",
    "Group 1 refers to the first set of parentheses (\\d\\d\\d) and can be referred to using \"\\1\".\n",
    "\n",
    "Group 2 refers to the second set of parentheses (\\d\\d\\d-\\d\\d\\d\\d) and can be referred to using \"\\2\"."
   ]
  },
  {
   "cell_type": "markdown",
   "id": "f7b02754",
   "metadata": {},
   "source": [
    "**6. In standard expression syntax, parentheses and intervals have distinct meanings. How can you tell a regex that you want it to fit real parentheses and periods?**<br>\n",
    "**Answer:** We can make use of backslashes to tell a regex that we want to fit real parantheses and periods. Periods and parantheses can be escaped with a blackslash as follows:\n",
    "$\\.$<br>,$\\($<br> and <br>$\\)$"
   ]
  },
  {
   "cell_type": "markdown",
   "id": "4ac124ec",
   "metadata": {},
   "source": [
    "**7. The findall() method returns a string list or a list of string tuples. What causes it to return one of the two options?** <br>\n",
    "**Answer:** If the regex has no groups, a list of strings is returned and if the regex has groups a list of tuples of strings is returned."
   ]
  },
  {
   "cell_type": "markdown",
   "id": "68d6e449",
   "metadata": {},
   "source": [
    "**8. In standard expressions, what does the | character mean?**<br>\n",
    "**Answer:** In standard expressions the $'|'$ character signifies matching \"either,or\" between two groups."
   ]
  },
  {
   "cell_type": "markdown",
   "id": "2240bd49",
   "metadata": {},
   "source": [
    "**9. In regular expressions, what does the character stand for?**<br>\n",
    "**Answer:** The pipe symbol is regular expressions matches the characted preceding it and or the expression following it.\n",
    "(Since not properly mentioned assuming Pipe from previous question.)"
   ]
  },
  {
   "cell_type": "markdown",
   "id": "02b9c362",
   "metadata": {},
   "source": [
    "**10.In regular expressions, what is the difference between the + and * characters?**<br>\n",
    "**Answer:** In regular expressions the '+' character matches one or more occurences of the preceding expressions, While the $'*'$ matches zero or more occurences of the preceding expressions. For Example: <br>\n",
    "\"ab+\" would match ab,abb,abbb but not \"a\". <br>\n",
    "\"\"ab*\" would match a,ab,abb,abbb etc."
   ]
  },
  {
   "cell_type": "markdown",
   "id": "c5ddc6fb",
   "metadata": {},
   "source": [
    "**11. What is the difference between {4} and {4,5} in regular expression?**<br>\n",
    "**Answer:** The expression {4} exactly matches instance of the preceding group. The expression {4,5} matches between four and five instances. For Example: <br>\n",
    "a{4} - exactly matches four occurences of a.<br>\n",
    "a{4,5} - matches four or five occurences of a."
   ]
  },
  {
   "cell_type": "markdown",
   "id": "2b9e878b",
   "metadata": {},
   "source": [
    "**12. What do you mean by the \\d, \\w, and \\s shorthand character classes signify in regular expressions?**<br>\n",
    "**Answer:** In regular expressions, the meaning of the above characters are as follows: <br>\n",
    "1. <u>\\d</u>: This shorthand character matches a single-digit.\n",
    "2. <u>\\w</u>: This shorthand character matches a word.\n",
    "3. <u>\\s</u>: This shorthand character matches a whitespace character, including spaces,tabs and line breaks.\n"
   ]
  },
  {
   "cell_type": "markdown",
   "id": "2f44395b",
   "metadata": {},
   "source": [
    "**13. What do means by \\D, \\W, and \\S shorthand character classes signify in regular expressions?**<br>\n",
    "**Answer:** In regular expressions, the shorthand character classes \\D, \\W, and \\S represent the following:<br>\n",
    "\n",
    "1. <u>\\D:</u> matches any non-digit character.\n",
    "2. <u>\\W:</u> matches any non-word character (letters, numbers and underscore are considered word characters).\n",
    "3. <u>\\S:</u> matches any non-whitespace character"
   ]
  },
  {
   "cell_type": "markdown",
   "id": "65ea2261",
   "metadata": {},
   "source": [
    "**14. What is the difference between .*? and .*?*<br>\n",
    "**Answer:** The $'.*'$ operator is greedy, meaning it will match as many characters as possible before trying to satisfy the rest of the patterns. On the other hand, the $'.*?'$ operator is non-greedy, meaning it will match as few characters as possible to satisfy the rest of the pattern.For example:"
   ]
  },
  {
   "cell_type": "code",
   "execution_count": 3,
   "id": "dee353d5",
   "metadata": {},
   "outputs": [
    {
     "name": "stdout",
     "output_type": "stream",
     "text": [
      "The quick brown fox jumps over the brown\n",
      "The quick brown\n"
     ]
    }
   ],
   "source": [
    "import re\n",
    "text = \"The quick brown fox jumps over the brown lazy dog.\"\n",
    "\n",
    "\n",
    "print(re.search(\".*brown\", text).group())\n",
    "\n",
    "\n",
    "\n",
    "print(re.search(\".*?brown\", text).group())\n"
   ]
  },
  {
   "cell_type": "markdown",
   "id": "f550bfef",
   "metadata": {},
   "source": [
    "**15. What is the syntax for matching both numbers and lowercase letters with a character class?**<br>\n",
    "**Answer:** The syntax for matching both numbers and lowercase letters is as follows:\n",
    "[0-9-a-z] or [a-z0-9]"
   ]
  },
  {
   "cell_type": "markdown",
   "id": "62bda998",
   "metadata": {},
   "source": [
    "**16. What is the procedure for making a normal expression in regax case insensitive?**<br>\n",
    "**Answer:** In regular expression, we can make a pattern case insensitive by adding 're.IGNORECASE' flag as an argument to the 're.search()' or 're.findall()' function. For Example:"
   ]
  },
  {
   "cell_type": "code",
   "execution_count": 4,
   "id": "f0965762",
   "metadata": {},
   "outputs": [
    {
     "name": "stdout",
     "output_type": "stream",
     "text": [
      "None\n",
      "The\n"
     ]
    }
   ],
   "source": [
    "import re\n",
    "\n",
    "text = \"The Quick Brown Fox Jumps Over The Lazy Dog.\"\n",
    "\n",
    "\n",
    "match = re.search(\"the\", text)\n",
    "print(match)\n",
    "\n",
    "\n",
    "\n",
    "match = re.search(\"the\", text, re.IGNORECASE)\n",
    "print(match.group())\n",
    "\n"
   ]
  },
  {
   "cell_type": "markdown",
   "id": "b9d3460d",
   "metadata": {},
   "source": [
    "**17. What does the . character normally match? What does it match if re.DOTALL is passed as 2nd argument in re.compile()?**<br>\n",
    "**Answer:** In regular expression, the '.' character is a special metacharacter that matches any character except a new line character. By default, the '.' does not match the newline characters. However, if we pass 're.DOTALL' flag as the second argument to the 're.compile()' function, the '.' character will match any character including newline. For Example:"
   ]
  },
  {
   "cell_type": "code",
   "execution_count": 5,
   "id": "5f9c8f53",
   "metadata": {},
   "outputs": [
    {
     "name": "stdout",
     "output_type": "stream",
     "text": [
      "The quick\n",
      "The quick\n",
      "brown fox\n",
      "jumps over\n",
      "the lazy dog.\n"
     ]
    }
   ],
   "source": [
    "import re\n",
    "\n",
    "text = \"The quick\\nbrown fox\\njumps over\\nthe lazy dog.\"\n",
    "\n",
    "\n",
    "pattern = re.compile(\".*\")\n",
    "match = pattern.search(text)\n",
    "print(match.group())\n",
    "\n",
    "pattern = re.compile(\".*\", re.DOTALL)\n",
    "match = pattern.search(text)\n",
    "print(match.group())\n",
    "\n"
   ]
  },
  {
   "cell_type": "markdown",
   "id": "b80a778b",
   "metadata": {},
   "source": [
    "**18. If numReg = re.compile(r'\\d+'), what will numRegex.sub('X', '11 drummers, 10 pipers, five rings, 4 hen') return?**<br>\n",
    "**Answer:** The expression numReg = re.compile(r'\\d+') creates a regular expression pattern that matches one or more consecutive digits. The re.sub() function will replace all occurrences of the pattern with the string 'X'.\n",
    "\n",
    "So, numReg.sub('X', '11 drummers, 10 pipers, five rings, 4 hen') will return the following string:<br>\n",
    "'X drummers, X pipers, five rings, X hen'<br>\n",
    "In this string, all sequences of one or more consecutive digits have been replaced with the letter 'X'.\n"
   ]
  },
  {
   "cell_type": "markdown",
   "id": "fdc7c191",
   "metadata": {},
   "source": [
    "**19. What does passing re.VERBOSE as the 2nd argument to re.compile() allow to do?**<br>\n",
    "**Answer:** Passing 're.VERBOSE' as the 2nd argument to 're.compile()' function allows us to write regular expression patterns in a more readable and understandable format by including comments and whitespace in the pattern. The re.VERBOSE flag enables you to write the pattern over multiple lines, add comments, and use extra whitespace to make it easier to read. \n"
   ]
  },
  {
   "cell_type": "markdown",
   "id": "4e52f6bb",
   "metadata": {},
   "source": [
    "**20. How would you write a regex that match a number with comma for every three digits? It must match the given following:\n",
    "'42'\n",
    "'1,234'\n",
    "'6,368,745'\n",
    "but not the following:\n",
    "'12,34,567' (which has only two digits between the commas)\n",
    "'1234' (which lacks commas)**<br>\n",
    "**Answer:** To match numbers with commas separating every three digits, you can use the following regular expression pattern:<br>\n",
    "**re.compile(r'^\\d{1,3}(,{3})*$')** "
   ]
  },
  {
   "cell_type": "markdown",
   "id": "44bae313",
   "metadata": {},
   "source": [
    "**21. How would you write a regex that matches the full name of someone whose last name is Watanabe? You can assume that the first name that comes before it will always be one word that begins with a capital letter. The regex must match the following:\n",
    "'Haruto Watanabe'\n",
    "'Alice Watanabe'\n",
    "'RoboCop Watanabe'\n",
    "but not the following:\n",
    "'haruto Watanabe' (where the first name is not capitalized)\n",
    "'Mr. Watanabe' (where the preceding word has a nonletter character)\n",
    "'Watanabe' (which has no first name)\n",
    "'Haruto watanabe' (where Watanabe is not capitalized)**<br>\n",
    "**Answer:** The following regular expression can be used to match the full name of someone whose last name is Watanbe:<br>\n",
    "**re.compile(r'[A-Z][a-z]*\\sWatanabe')**"
   ]
  },
  {
   "cell_type": "markdown",
   "id": "050d752a",
   "metadata": {},
   "source": [
    "**22. How would you write a regex that matches a sentence where the first word is either Alice, Bob, or Carol; the second word is either eats, pets, or throws; the third word is apples, cats, or baseballs; and the sentence ends with a period? This regex should be case-insensitive. It must match the following:\n",
    "'Alice eats apples.'\n",
    "'Bob pets cats.'\n",
    "'Carol throws baseballs.'\n",
    "'Alice throws Apples.'\n",
    "'BOB EATS CATS.'\n",
    "but not the following:\n",
    "'RoboCop eats apples.'\n",
    "'ALICE THROWS FOOTBALLS.'\n",
    "'Carol eats 7 cats.'**<br>\n",
    "**Answer:** The following regular expression can be used to match a sentence where the first word is either Alice, Bob, or Carol; the second word is either eats, pets, or throws; the third word is apples, cats, or baseballs; and the sentence ends with a period: <br>\n",
    "**re.compile(r'(Alice|Bob|Carol)\\s(eats|pets|throws)\\ s(apples|cats|baseballs)\\.', re.IGNORECASE)**"
   ]
  }
 ],
 "metadata": {
  "kernelspec": {
   "display_name": "Python 3 (ipykernel)",
   "language": "python",
   "name": "python3"
  },
  "language_info": {
   "codemirror_mode": {
    "name": "ipython",
    "version": 3
   },
   "file_extension": ".py",
   "mimetype": "text/x-python",
   "name": "python",
   "nbconvert_exporter": "python",
   "pygments_lexer": "ipython3",
   "version": "3.9.13"
  }
 },
 "nbformat": 4,
 "nbformat_minor": 5
}
