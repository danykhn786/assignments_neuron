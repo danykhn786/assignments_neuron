{
 "cells": [
  {
   "cell_type": "markdown",
   "id": "b7ace681",
   "metadata": {},
   "source": [
    "**1) What exactly is []?** <br>\n",
    "**Answer**: '[]' is an empty list in Python. Lists are a built-in data structure in Python that are used to store a collection of items. Each item in the list is called an element, and the elements are stored in a specific order.\n",
    "For Eg. fruits = [\"apple\",\"banana\",\"mango\"]\n"
   ]
  },
  {
   "cell_type": "markdown",
   "id": "7c2840fb",
   "metadata": {},
   "source": [
    "**2) In a list of values stored in a variable called spam, how would you assign the value 'hello' as the third value? (Assume [2, 4, 6, 8, 10] are in spam.)** <br>\n",
    "**Answer:** "
   ]
  },
  {
   "cell_type": "code",
   "execution_count": 10,
   "id": "91c67eb5",
   "metadata": {},
   "outputs": [
    {
     "data": {
      "text/plain": [
       "[2, 4, 'Hello', 8, 10]"
      ]
     },
     "execution_count": 10,
     "metadata": {},
     "output_type": "execute_result"
    }
   ],
   "source": [
    "spam = [2,4,6,8,10]\n",
    "spam[2] = \"Hello\"\n",
    "spam"
   ]
  },
  {
   "cell_type": "markdown",
   "id": "f17c6604",
   "metadata": {},
   "source": [
    "**3. What is the value of spam[int(int('3' * 2) / 11)]?**<br>\n",
    "**Answer:** Since the division provided inside the square brackets adds upto 3 IT is showing the value as 8."
   ]
  },
  {
   "cell_type": "code",
   "execution_count": 11,
   "id": "92144306",
   "metadata": {},
   "outputs": [
    {
     "data": {
      "text/plain": [
       "[2, 4, 'Hello', 8, 10, ['a', 'b', 'c', 'd']]"
      ]
     },
     "execution_count": 11,
     "metadata": {},
     "output_type": "execute_result"
    }
   ],
   "source": [
    "spam.append(['a','b','c','d'])\n",
    "spam"
   ]
  },
  {
   "cell_type": "code",
   "execution_count": 12,
   "id": "c2e1b860",
   "metadata": {},
   "outputs": [
    {
     "data": {
      "text/plain": [
       "8"
      ]
     },
     "execution_count": 12,
     "metadata": {},
     "output_type": "execute_result"
    }
   ],
   "source": [
    "spam[int(int('3' * 2) / 11)]"
   ]
  },
  {
   "cell_type": "markdown",
   "id": "23274bb5",
   "metadata": {},
   "source": [
    "**4. What is the value of spam[-1]?**<br>\n",
    "**Answer:** Since Python allows negative indices. Therefore, output will show the last element."
   ]
  },
  {
   "cell_type": "code",
   "execution_count": 17,
   "id": "b29b0a1f",
   "metadata": {},
   "outputs": [
    {
     "data": {
      "text/plain": [
       "['a', 'b', 'c', 'd']"
      ]
     },
     "execution_count": 17,
     "metadata": {},
     "output_type": "execute_result"
    }
   ],
   "source": [
    "spam[-1]"
   ]
  },
  {
   "cell_type": "markdown",
   "id": "10a485c3",
   "metadata": {},
   "source": [
    "**5. What is the value of spam[:2]?**<br>\n",
    "**Answer:** The following would provide a slice of list ranging from 0th element to 1st element"
   ]
  },
  {
   "cell_type": "code",
   "execution_count": 18,
   "id": "880998a9",
   "metadata": {},
   "outputs": [
    {
     "data": {
      "text/plain": [
       "[2, 4]"
      ]
     },
     "execution_count": 18,
     "metadata": {},
     "output_type": "execute_result"
    }
   ],
   "source": [
    "spam[:2]"
   ]
  },
  {
   "cell_type": "markdown",
   "id": "05593bf5",
   "metadata": {},
   "source": [
    "**6. What is the value of bacon.index('cat')?**<br>\n",
    "**Answer:** This expression would return the index of first occurence of the String cat within the list."
   ]
  },
  {
   "cell_type": "code",
   "execution_count": 22,
   "id": "3b9fa407",
   "metadata": {},
   "outputs": [
    {
     "data": {
      "text/plain": [
       "1"
      ]
     },
     "execution_count": 22,
     "metadata": {},
     "output_type": "execute_result"
    }
   ],
   "source": [
    "bacon = [3.14, 'cat', 11, 'cat', True] \n",
    "bacon.index('cat')"
   ]
  },
  {
   "cell_type": "markdown",
   "id": "f3f41eac",
   "metadata": {},
   "source": [
    "**7. How does bacon.append(99) change the look of the list value in bacon?**<br>\n",
    "**Answer:** The append function in Python is used to add an element at the end of the list. Hence, This would append/add an element at the end of the list making it the last index of the list"
   ]
  },
  {
   "cell_type": "code",
   "execution_count": 24,
   "id": "2585681a",
   "metadata": {},
   "outputs": [
    {
     "data": {
      "text/plain": [
       "[3.14, 'cat', 11, 'cat', True, 99]"
      ]
     },
     "execution_count": 24,
     "metadata": {},
     "output_type": "execute_result"
    }
   ],
   "source": [
    "bacon.append(99)\n",
    "bacon"
   ]
  },
  {
   "cell_type": "markdown",
   "id": "88c05669",
   "metadata": {},
   "source": [
    "**8. How does bacon.remove('cat') change the look of the list in bacon?**<br>\n",
    "**Answer:** This would remove the first occurence of the string cat from the list. "
   ]
  },
  {
   "cell_type": "code",
   "execution_count": 25,
   "id": "c9b4cf9c",
   "metadata": {},
   "outputs": [
    {
     "data": {
      "text/plain": [
       "[3.14, 11, 'cat', True, 99]"
      ]
     },
     "execution_count": 25,
     "metadata": {},
     "output_type": "execute_result"
    }
   ],
   "source": [
    "bacon.remove('cat')\n",
    "bacon"
   ]
  },
  {
   "cell_type": "markdown",
   "id": "4fcd7a92",
   "metadata": {},
   "source": [
    "**9. What are the list concatenation and list replication operators?**<br>\n",
    "**Answer:** 1.<u>**Concatenation Operator**</u>: In Python, we can use the '+' operator to concatenate two lists. The '+' operator creates a new list that is the result of concatenation the two lists. For Eg."
   ]
  },
  {
   "cell_type": "code",
   "execution_count": 39,
   "id": "793bda7f",
   "metadata": {},
   "outputs": [
    {
     "name": "stdout",
     "output_type": "stream",
     "text": [
      "[1, 2, 3, 3, 4, 5]\n"
     ]
    }
   ],
   "source": [
    "list1 = [1,2,3]\n",
    "list2 = [3,4,5]\n",
    "con_list = list1+list2\n",
    "print(con_list)"
   ]
  },
  {
   "cell_type": "markdown",
   "id": "fb46822b",
   "metadata": {},
   "source": [
    "2. <u>**Replication Operator**</u>: In Pyhon, We can use the '$*$' Operator to replicate a list. The '*' operator creates a new list that is a replication of the original list. For eg."
   ]
  },
  {
   "cell_type": "code",
   "execution_count": 27,
   "id": "059f8447",
   "metadata": {},
   "outputs": [
    {
     "name": "stdout",
     "output_type": "stream",
     "text": [
      "[1, 2, 3, 1, 2, 3, 1, 2, 3]\n"
     ]
    }
   ],
   "source": [
    "rep_list = list1 * 3\n",
    "print(rep_list)"
   ]
  },
  {
   "cell_type": "markdown",
   "id": "bade6c3f",
   "metadata": {},
   "source": [
    "**10. What is difference between the list methods append() and insert()?**<br>\n",
    "**Answer:** In Python, both append() and insert() methods are used to add elements in the list.\n",
    "1. <u>**append()**</u>: The append() method adds the element to the end of the list. It takes a single argument, which is the element that you want to add in the list. For Eg."
   ]
  },
  {
   "cell_type": "code",
   "execution_count": 28,
   "id": "edf029d6",
   "metadata": {},
   "outputs": [
    {
     "data": {
      "text/plain": [
       "[1, 2, 3, 45]"
      ]
     },
     "execution_count": 28,
     "metadata": {},
     "output_type": "execute_result"
    }
   ],
   "source": [
    "list1.append(45)\n",
    "list1"
   ]
  },
  {
   "cell_type": "markdown",
   "id": "4cbb4058",
   "metadata": {},
   "source": [
    "2. <u>**insert()**</u>: The insert() method in Python inserts an element at a specific index in the list. It takes two arguments, the first argument is the index where the element should be inserted, and the second argument is the element that you want to insert. For Eg."
   ]
  },
  {
   "cell_type": "code",
   "execution_count": 29,
   "id": "6ddfd32c",
   "metadata": {},
   "outputs": [
    {
     "data": {
      "text/plain": [
       "[1, 2, 5, 3, 45]"
      ]
     },
     "execution_count": 29,
     "metadata": {},
     "output_type": "execute_result"
    }
   ],
   "source": [
    "list1.insert(2,5)\n",
    "list1"
   ]
  },
  {
   "cell_type": "markdown",
   "id": "d13573be",
   "metadata": {},
   "source": [
    "**11. What are the two methods for removing items from a list?**<br>\n",
    "**Answer:** In Python, we can remove elements from a list using the following two methods: <br>\n",
    "1. <u>**remove()**</u>: The remove() removes the first occurence of a specified element from the list. For Example."
   ]
  },
  {
   "cell_type": "code",
   "execution_count": 30,
   "id": "b4f7f6a7",
   "metadata": {},
   "outputs": [
    {
     "data": {
      "text/plain": [
       "[1, 2, 5, 3]"
      ]
     },
     "execution_count": 30,
     "metadata": {},
     "output_type": "execute_result"
    }
   ],
   "source": [
    "list1.remove(45)\n",
    "list1"
   ]
  },
  {
   "cell_type": "markdown",
   "id": "5e8fe384",
   "metadata": {},
   "source": [
    "2. <u>**pop()**</u>: The pop() method removes an element from the list and returns it. By default, pop() removes and returns the last element of the list, but you can specify the index of the element that you want to remove and return. "
   ]
  },
  {
   "cell_type": "code",
   "execution_count": 40,
   "id": "49f80978",
   "metadata": {},
   "outputs": [
    {
     "name": "stdout",
     "output_type": "stream",
     "text": [
      "List1 before pop operation: [1, 2, 3]\n",
      "Popped 3 from [1, 2]\n"
     ]
    }
   ],
   "source": [
    "print(f\"List1 before pop operation: {list1}\")\n",
    "a = list1.pop(2)\n",
    "print(f\"Popped {a} from {list1}\")"
   ]
  },
  {
   "cell_type": "markdown",
   "id": "e3780cdd",
   "metadata": {},
   "source": [
    "**13. What's the difference between tuples and lists?**<br>\n",
    "**Answer:** In Python Tuples and Lists are both data structures which allow you to store a collection of items. The differences between tuples and lists are as follows: <br>\n",
    "1. <u>**Immutability**</u> : The main difference between tuples and lists are that tuples are immutable while lists are mutable. This means that once you create a tuple you cannot add,remove or modify elements. While, you can add,remove or modify elements in a list.<br>\n",
    "2. <u>**Syntax**</u> : Tuples use paranthesis $'()'$ while lists use square brackets $'[]'$ to define them. For Example."
   ]
  },
  {
   "cell_type": "code",
   "execution_count": 54,
   "id": "a435090f",
   "metadata": {},
   "outputs": [
    {
     "name": "stdout",
     "output_type": "stream",
     "text": [
      "Tuple: (1, 2, 3, 4)\n",
      "List: [1, 2, 3, 4]\n"
     ]
    }
   ],
   "source": [
    "#Tuple\n",
    "a = (1,2,3,4)\n",
    "print(f\"Tuple: {a}\")\n",
    "\n",
    "#list \n",
    "list3 = [1,2,3,4]\n",
    "print(f\"List: {list3}\")"
   ]
  },
  {
   "cell_type": "markdown",
   "id": "d569e7e4",
   "metadata": {},
   "source": [
    "3. <u>**Use Case**</u>: Tuples are typically used when you want to store a collection of items that are related in some way, but you don't need to modify values. Lists are more commonly used when you need to store collections of items that may be need modifications. "
   ]
  },
  {
   "cell_type": "markdown",
   "id": "908425ca",
   "metadata": {},
   "source": [
    "**14. How do you type a tuple value that only contains the integer 42?** <br>\n",
    "**Answer**: To type a value that only contains integer 42 the following syntax can be followed: <br>"
   ]
  },
  {
   "cell_type": "code",
   "execution_count": 46,
   "id": "f99b28cb",
   "metadata": {},
   "outputs": [
    {
     "data": {
      "text/plain": [
       "tuple"
      ]
     },
     "execution_count": 46,
     "metadata": {},
     "output_type": "execute_result"
    }
   ],
   "source": [
    "a = (42,)\n",
    "type(a)"
   ]
  },
  {
   "cell_type": "markdown",
   "id": "7563c48d",
   "metadata": {},
   "source": [
    "The comma is used to tell Python that we are creating a tuple and not just grouping an expression in paranthesis"
   ]
  },
  {
   "cell_type": "markdown",
   "id": "4fe9b628",
   "metadata": {},
   "source": [
    "**15. How do you get a list value's tuple form? How do you get a tuple value's list form?**<br>\n",
    "**Answer**: 1. To get a list value from we use the tuple() function: "
   ]
  },
  {
   "cell_type": "code",
   "execution_count": 60,
   "id": "e528cc1f",
   "metadata": {},
   "outputs": [
    {
     "name": "stdout",
     "output_type": "stream",
     "text": [
      "(1, 2, 3, 4)\n"
     ]
    }
   ],
   "source": [
    "tuple1 = tuple(list3)\n",
    "print(tuple1)"
   ]
  },
  {
   "cell_type": "markdown",
   "id": "63bd0e11",
   "metadata": {},
   "source": [
    "2. To get a tuple value from a list we use the list() function:"
   ]
  },
  {
   "cell_type": "code",
   "execution_count": 62,
   "id": "d8f2fa65",
   "metadata": {},
   "outputs": [
    {
     "name": "stdout",
     "output_type": "stream",
     "text": [
      "[1, 2, 3]\n"
     ]
    }
   ],
   "source": [
    "my_tuple = (1, 2, 3)\n",
    "my_list = list(my_tuple)\n",
    "print(my_list)"
   ]
  },
  {
   "cell_type": "markdown",
   "id": "10e8cbb4",
   "metadata": {},
   "source": [
    "**16. Variables that \"contain\" list values are not necessarily lists themselves. Instead, what do they contain?**<br>\n",
    "**Answer**: Variables that \"contain\" list values actually contain references to list objects. In other words, when you assign a list to a variable, you're not actually copying the list into the variable. Instead, you're creating a new reference to the same list object. For example:"
   ]
  },
  {
   "cell_type": "code",
   "execution_count": 63,
   "id": "59a6bb6f",
   "metadata": {},
   "outputs": [],
   "source": [
    "my_list = [1, 2, 3]\n",
    "my_variable = my_list"
   ]
  },
  {
   "cell_type": "markdown",
   "id": "3e3bde15",
   "metadata": {},
   "source": [
    "In this example, my_variable is a reference to the same list object that my_list is referencing. If you modify the list through my_variable, you'll also be modifying the list that my_list references."
   ]
  },
  {
   "cell_type": "code",
   "execution_count": 64,
   "id": "a79d93fc",
   "metadata": {},
   "outputs": [
    {
     "name": "stdout",
     "output_type": "stream",
     "text": [
      "[1, 2, 3, 'New']\n"
     ]
    }
   ],
   "source": [
    "my_variable.append(\"New\")\n",
    "print(my_list)"
   ]
  },
  {
   "cell_type": "markdown",
   "id": "a32d9cef",
   "metadata": {},
   "source": [
    "**17. How do you distinguish between copy.copy() and copy.deepcopy()?**<br>\n",
    "**Answer**: The copy module in Python provides two functions for making copies of objects: copy.copy() and copy.deepcopy(). The distinction between the two functions lies in how they handle objects that contain references to other objects.<br>\n",
    "1. <u>**copy.copy()**</u>: Makes a shallow copy of an object. In a shallow copy, any references to other objects are copied as references, not as new objects. This means that if you modify an object contained within the copied object, the changes will be reflected in both the original object and the copied object. For Eg. "
   ]
  },
  {
   "cell_type": "code",
   "execution_count": 68,
   "id": "3ddbf755",
   "metadata": {},
   "outputs": [
    {
     "name": "stdout",
     "output_type": "stream",
     "text": [
      "[[7, 2, 3], [4, 5, 6]]\n",
      "[[7, 2, 3], [4, 5, 6]]\n"
     ]
    }
   ],
   "source": [
    "import copy\n",
    "\n",
    "original_list = [[1, 2, 3], [4, 5, 6]]\n",
    "shallow_copy = copy.copy(original_list)\n",
    "\n",
    "shallow_copy[0][0] = 7\n",
    "\n",
    "print(original_list) \n",
    "print(shallow_copy) "
   ]
  },
  {
   "cell_type": "markdown",
   "id": "652bf812",
   "metadata": {},
   "source": [
    "2. <u>**copy.deepcopy()**</u>: Makes a deep copy of an object. In a deep copy, all references to other objects are copied as new objects, not just as references. This means that if you modify an object contained within the copied object, the changes will not be reflected in the original object."
   ]
  },
  {
   "cell_type": "code",
   "execution_count": 69,
   "id": "814b0a19",
   "metadata": {},
   "outputs": [
    {
     "name": "stdout",
     "output_type": "stream",
     "text": [
      "[[1, 2, 3], [4, 5, 6]]\n",
      "[[7, 2, 3], [4, 5, 6]]\n"
     ]
    }
   ],
   "source": [
    "import copy\n",
    "\n",
    "original_list = [[1, 2, 3], [4, 5, 6]]\n",
    "deep_copy = copy.deepcopy(original_list)\n",
    "\n",
    "deep_copy[0][0] = 7\n",
    "\n",
    "print(original_list) \n",
    "print(deep_copy) "
   ]
  },
  {
   "cell_type": "code",
   "execution_count": null,
   "id": "87a899fd",
   "metadata": {},
   "outputs": [],
   "source": []
  }
 ],
 "metadata": {
  "kernelspec": {
   "display_name": "Python 3 (ipykernel)",
   "language": "python",
   "name": "python3"
  },
  "language_info": {
   "codemirror_mode": {
    "name": "ipython",
    "version": 3
   },
   "file_extension": ".py",
   "mimetype": "text/x-python",
   "name": "python",
   "nbconvert_exporter": "python",
   "pygments_lexer": "ipython3",
   "version": "3.9.13"
  }
 },
 "nbformat": 4,
 "nbformat_minor": 5
}
