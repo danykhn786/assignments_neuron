{
 "cells": [
  {
   "cell_type": "markdown",
   "id": "6ef74391",
   "metadata": {},
   "source": [
    "**1. How do you distinguish between shutil.copy() and shutil.copytree()?**<br>\n",
    "**Answer:** <br>1. <u>'shutil.copy()'</u> is used to copy a single file from source to destination. It returns the destination path of the file.<br>\n",
    "2. <u>'shutil.copytree()'</u> is used to copy an entire directory tree from source to destination. It returns the destination path of the copied directory."
   ]
  },
  {
   "cell_type": "markdown",
   "id": "469cc16e",
   "metadata": {},
   "source": [
    "**2. What function is used to rename files??**<br>\n",
    "**Answer:** The function used to rename files in 'shutil' module in Python is 'shutil.move()'. It can be used to both rename a file and move it to a different location in one step."
   ]
  },
  {
   "cell_type": "markdown",
   "id": "3e3bc0f5",
   "metadata": {},
   "source": [
    "**3. What is the difference between the delete functions in the send2trash and shutil modules?**<br>\n",
    "**Answer:** 'send2trash' is a third-party module that provides a safer way to delete files and directories. Instead of permanently deleting a file, it moves it to the trash/recycle bin of the operating system, allowing the user to recover it if needed. <br>\n",
    "'shutil' modules on the other hand deletes the files permanently. We can use 'shutil.rmtree()' to delete the files and it not possible to recover once deleted."
   ]
  },
  {
   "cell_type": "markdown",
   "id": "6c7026db",
   "metadata": {},
   "source": [
    "**4.ZipFile objects have a close() method just like File objects’ close() method. What ZipFile method is equivalent to File objects’ open() method?**<br>\n",
    "**Answer:** The equivalent method in the 'zipfile' module to open a file object is 'zipfile.ZipFile()'. This function creates a ZipFile object, which can be used to extract,read and write files within a ZIP archive."
   ]
  },
  {
   "cell_type": "markdown",
   "id": "1aa2143d",
   "metadata": {},
   "source": [
    "**5. Create a programme that searches a folder tree for files with a certain file extension (such as .pdf or .jpg). Copy these files from whatever location they are in to a new folder.**<br>\n",
    "**Answer:** "
   ]
  },
  {
   "cell_type": "code",
   "execution_count": 17,
   "id": "14ecd6c0",
   "metadata": {},
   "outputs": [
    {
     "name": "stdout",
     "output_type": "stream",
     "text": [
      "Copied file Assignment_1.pdf\n",
      "Copied file Assignment_2.pdf\n",
      "Copied file Assignment_3.pdf\n"
     ]
    }
   ],
   "source": [
    "import os,shutil\n",
    "\n",
    "def search_and_copy(src_folder,dst_folder,extension):\n",
    "    try:\n",
    "        for folderName,subfolders,filenames in os.walk(src_folder):\n",
    "            for filename in filenames:\n",
    "                if filename.endswith(extension):\n",
    "                    copySourcePath = os.path.join(folderName,filename)\n",
    "                    shutil.copy(copySourcePath,dst_folder)\n",
    "                    print(f\"Copied file {filename}\")\n",
    "                else:\n",
    "                    continue\n",
    "    except shutil.SameFileError as e:\n",
    "        pass\n",
    "search_and_copy('C:\\\\Users\\\\danyk\\\\test','C:\\\\Users\\\\danyk\\\\test\\\\dest','.pdf')"
   ]
  }
 ],
 "metadata": {
  "kernelspec": {
   "display_name": "Python 3 (ipykernel)",
   "language": "python",
   "name": "python3"
  },
  "language_info": {
   "codemirror_mode": {
    "name": "ipython",
    "version": 3
   },
   "file_extension": ".py",
   "mimetype": "text/x-python",
   "name": "python",
   "nbconvert_exporter": "python",
   "pygments_lexer": "ipython3",
   "version": "3.9.13"
  }
 },
 "nbformat": 4,
 "nbformat_minor": 5
}
